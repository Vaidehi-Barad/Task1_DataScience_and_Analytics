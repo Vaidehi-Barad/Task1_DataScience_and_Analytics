{
 "cells": [
  {
   "cell_type": "code",
   "execution_count": 3,
   "metadata": {},
   "outputs": [Task 1],
   "source": [
    "import pandas as pd\n",
    "import numpy as np\n",
    "import matplotlib.pyplot as plt\n",
    "%matplotlib inline"
   ]
  },
  {
   "cell_type": "code",
   "execution_count": 5,
   "metadata": {},
   "outputs": [
    {
     "name": "stdout",
     "output_type": "stream",
     "text": [
      "Data imported successfully\n"
     ]
    },
    {
     "data": {
      "text/html": [
       "<div>\n",
       "<style scoped>\n",
       "    .dataframe tbody tr th:only-of-type {\n",
       "        vertical-align: middle;\n",
       "    }\n",
       "\n",
       "    .dataframe tbody tr th {\n",
       "        vertical-align: top;\n",
       "    }\n",
       "\n",
       "    .dataframe thead th {\n",
       "        text-align: right;\n",
       "    }\n",
       "</style>\n",
       "<table border=\"1\" class=\"dataframe\">\n",
       "  <thead>\n",
       "    <tr style=\"text-align: right;\">\n",
       "      <th></th>\n",
       "      <th>Hours</th>\n",
       "      <th>Scores</th>\n",
       "    </tr>\n",
       "  </thead>\n",
       "  <tbody>\n",
       "    <tr>\n",
       "      <th>0</th>\n",
       "      <td>2.5</td>\n",
       "      <td>21</td>\n",
       "    </tr>\n",
       "    <tr>\n",
       "      <th>1</th>\n",
       "      <td>5.1</td>\n",
       "      <td>47</td>\n",
       "    </tr>\n",
       "    <tr>\n",
       "      <th>2</th>\n",
       "      <td>3.2</td>\n",
       "      <td>27</td>\n",
       "    </tr>\n",
       "    <tr>\n",
       "      <th>3</th>\n",
       "      <td>8.5</td>\n",
       "      <td>75</td>\n",
       "    </tr>\n",
       "    <tr>\n",
       "      <th>4</th>\n",
       "      <td>3.5</td>\n",
       "      <td>30</td>\n",
       "    </tr>\n",
       "    <tr>\n",
       "      <th>5</th>\n",
       "      <td>1.5</td>\n",
       "      <td>20</td>\n",
       "    </tr>\n",
       "    <tr>\n",
       "      <th>6</th>\n",
       "      <td>9.2</td>\n",
       "      <td>88</td>\n",
       "    </tr>\n",
       "    <tr>\n",
       "      <th>7</th>\n",
       "      <td>5.5</td>\n",
       "      <td>60</td>\n",
       "    </tr>\n",
       "    <tr>\n",
       "      <th>8</th>\n",
       "      <td>8.3</td>\n",
       "      <td>81</td>\n",
       "    </tr>\n",
       "    <tr>\n",
       "      <th>9</th>\n",
       "      <td>2.7</td>\n",
       "      <td>25</td>\n",
       "    </tr>\n",
       "  </tbody>\n",
       "</table>\n",
       "</div>"
      ],
      "text/plain": [
       "   Hours  Scores\n",
       "0    2.5      21\n",
       "1    5.1      47\n",
       "2    3.2      27\n",
       "3    8.5      75\n",
       "4    3.5      30\n",
       "5    1.5      20\n",
       "6    9.2      88\n",
       "7    5.5      60\n",
       "8    8.3      81\n",
       "9    2.7      25"
      ]
     },
     "execution_count": 5,
     "metadata": {},
     "output_type": "execute_result"
    }
   ],
   "source": [
    "#reading data \n",
    "s_data = pd.read_csv('http://bit.ly/w-data')\n",
    "print(\"Data imported successfully\")\n",
    "\n",
    "s_data.head(10)"
   ]
  },
  {
   "cell_type": "code",
   "execution_count": 6,
   "metadata": {},
   "outputs": [
    {
     "data": {
      "text/html": [
       "<div>\n",
       "<style scoped>\n",
       "    .dataframe tbody tr th:only-of-type {\n",
       "        vertical-align: middle;\n",
       "    }\n",
       "\n",
       "    .dataframe tbody tr th {\n",
       "        vertical-align: top;\n",
       "    }\n",
       "\n",
       "    .dataframe thead th {\n",
       "        text-align: right;\n",
       "    }\n",
       "</style>\n",
       "<table border=\"1\" class=\"dataframe\">\n",
       "  <thead>\n",
       "    <tr style=\"text-align: right;\">\n",
       "      <th></th>\n",
       "      <th>Hours</th>\n",
       "      <th>Scores</th>\n",
       "    </tr>\n",
       "  </thead>\n",
       "  <tbody>\n",
       "    <tr>\n",
       "      <th>count</th>\n",
       "      <td>25.000000</td>\n",
       "      <td>25.000000</td>\n",
       "    </tr>\n",
       "    <tr>\n",
       "      <th>mean</th>\n",
       "      <td>5.012000</td>\n",
       "      <td>51.480000</td>\n",
       "    </tr>\n",
       "    <tr>\n",
       "      <th>std</th>\n",
       "      <td>2.525094</td>\n",
       "      <td>25.286887</td>\n",
       "    </tr>\n",
       "    <tr>\n",
       "      <th>min</th>\n",
       "      <td>1.100000</td>\n",
       "      <td>17.000000</td>\n",
       "    </tr>\n",
       "    <tr>\n",
       "      <th>25%</th>\n",
       "      <td>2.700000</td>\n",
       "      <td>30.000000</td>\n",
       "    </tr>\n",
       "    <tr>\n",
       "      <th>50%</th>\n",
       "      <td>4.800000</td>\n",
       "      <td>47.000000</td>\n",
       "    </tr>\n",
       "    <tr>\n",
       "      <th>75%</th>\n",
       "      <td>7.400000</td>\n",
       "      <td>75.000000</td>\n",
       "    </tr>\n",
       "    <tr>\n",
       "      <th>max</th>\n",
       "      <td>9.200000</td>\n",
       "      <td>95.000000</td>\n",
       "    </tr>\n",
       "  </tbody>\n",
       "</table>\n",
       "</div>"
      ],
      "text/plain": [
       "           Hours     Scores\n",
       "count  25.000000  25.000000\n",
       "mean    5.012000  51.480000\n",
       "std     2.525094  25.286887\n",
       "min     1.100000  17.000000\n",
       "25%     2.700000  30.000000\n",
       "50%     4.800000  47.000000\n",
       "75%     7.400000  75.000000\n",
       "max     9.200000  95.000000"
      ]
     },
     "execution_count": 6,
     "metadata": {},
     "output_type": "execute_result"
    }
   ],
   "source": [
    "s_data.describe()\n"
   ]
  },
  {
   "cell_type": "code",
   "execution_count": 7,
   "metadata": {},
   "outputs": [
    {
     "data": {
      "image/png": "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\n",
      "text/plain": [
       "<Figure size 432x288 with 1 Axes>"
      ]
     },
     "metadata": {
      "needs_background": "light"
     },
     "output_type": "display_data"
    }
   ],
   "source": [
    "#plotting the distribution of scores\n",
    "s_data.plot(x='Hours', y='Scores', style='.')\n",
    "plt.title('Hours vs Percentage')\n",
    "plt.xlabel('Hours Studied')\n",
    "plt.ylabel('Percentage Scored')\n",
    "plt.xlim(1, 9)\n",
    "plt.show()"
   ]
  },
  {
   "cell_type": "code",
   "execution_count": 10,
   "metadata": {},
   "outputs": [],
   "source": [
    "#Dividing the data into attributes and labels\n",
    "X = s_data.iloc[:, :-1].values\n",
    "y = s_data.iloc[:,1].values"
   ]
  },
  {
   "cell_type": "code",
   "execution_count": 11,
   "metadata": {},
   "outputs": [],
   "source": [
    "#Spliiting this data into training and test sets by using Scikit-learn's built in train_test_split() method:\n",
    "from sklearn.model_selection import train_test_split\n",
    "X_train, X_test, y_train, y_test=train_test_split(X, y, test_size=0.2, random_state=0 )"
   ]
  },
  {
   "cell_type": "code",
   "execution_count": 13,
   "metadata": {},
   "outputs": [
    {
     "name": "stdout",
     "output_type": "stream",
     "text": [
      "Training Complete!\n"
     ]
    }
   ],
   "source": [
    "#Spliiting the data into training and testing sets is done, and now is finally the time to train our algorithm\n",
    "from sklearn.linear_model import LinearRegression\n",
    "regressor=LinearRegression()\n",
    "regressor.fit(X_train, y_train)\n",
    "\n",
    "print('Training Complete!')"
   ]
  },
  {
   "cell_type": "code",
   "execution_count": 14,
   "metadata": {},
   "outputs": [
    {
     "data": {
      "image/png": "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\n",
      "text/plain": [
       "<Figure size 432x288 with 1 Axes>"
      ]
     },
     "metadata": {
      "needs_background": "light"
     },
     "output_type": "display_data"
    }
   ],
   "source": [
    "#Plotting the regression line\n",
    "line = regressor.coef_*X+regressor.intercept_\n",
    "\n",
    "#Plotting for the test data\n",
    "plt.scatter(X,y)\n",
    "plt.plot(X,line)\n",
    "plt.show()"
   ]
  },
  {
   "cell_type": "code",
   "execution_count": 16,
   "metadata": {},
   "outputs": [
    {
     "name": "stdout",
     "output_type": "stream",
     "text": [
      "[[1.5]\n",
      " [3.2]\n",
      " [7.4]\n",
      " [2.5]\n",
      " [5.9]]\n",
      "[16.88414476 33.73226078 75.357018   26.79480124 60.49103328]\n"
     ]
    }
   ],
   "source": [
    "#Some predictions after the algorithm is trained\n",
    "print(X_test)# Testing data -in hrs\n",
    "y_pred = regressor.predict(X_test)#Predicting the scores\n",
    "print(y_pred)"
   ]
  },
  {
   "cell_type": "code",
   "execution_count": 20,
   "metadata": {},
   "outputs": [
    {
     "data": {
      "text/html": [
       "<div>\n",
       "<style scoped>\n",
       "    .dataframe tbody tr th:only-of-type {\n",
       "        vertical-align: middle;\n",
       "    }\n",
       "\n",
       "    .dataframe tbody tr th {\n",
       "        vertical-align: top;\n",
       "    }\n",
       "\n",
       "    .dataframe thead th {\n",
       "        text-align: right;\n",
       "    }\n",
       "</style>\n",
       "<table border=\"1\" class=\"dataframe\">\n",
       "  <thead>\n",
       "    <tr style=\"text-align: right;\">\n",
       "      <th></th>\n",
       "      <th>Actual</th>\n",
       "      <th>Predicted</th>\n",
       "    </tr>\n",
       "  </thead>\n",
       "  <tbody>\n",
       "    <tr>\n",
       "      <th>0</th>\n",
       "      <td>20</td>\n",
       "      <td>16.884145</td>\n",
       "    </tr>\n",
       "    <tr>\n",
       "      <th>1</th>\n",
       "      <td>27</td>\n",
       "      <td>33.732261</td>\n",
       "    </tr>\n",
       "    <tr>\n",
       "      <th>2</th>\n",
       "      <td>69</td>\n",
       "      <td>75.357018</td>\n",
       "    </tr>\n",
       "    <tr>\n",
       "      <th>3</th>\n",
       "      <td>30</td>\n",
       "      <td>26.794801</td>\n",
       "    </tr>\n",
       "    <tr>\n",
       "      <th>4</th>\n",
       "      <td>62</td>\n",
       "      <td>60.491033</td>\n",
       "    </tr>\n",
       "  </tbody>\n",
       "</table>\n",
       "</div>"
      ],
      "text/plain": [
       "   Actual  Predicted\n",
       "0      20  16.884145\n",
       "1      27  33.732261\n",
       "2      69  75.357018\n",
       "3      30  26.794801\n",
       "4      62  60.491033"
      ]
     },
     "execution_count": 20,
     "metadata": {},
     "output_type": "execute_result"
    }
   ],
   "source": [
    "#Comparing the actual vs predicted\n",
    "df1 = pd.DataFrame({'Actual': y_test,'Predicted': y_pred})\n",
    "df1"
   ]
  },
  {
   "cell_type": "code",
   "execution_count": 21,
   "metadata": {},
   "outputs": [
    {
     "name": "stdout",
     "output_type": "stream",
     "text": [
      "No. of hours = [[9.25]]\n",
      "Predicted Score = 93.69173248737538\n"
     ]
    }
   ],
   "source": [
    "#Predicting the percentage of students who studies for 9.25hrs/day\n",
    "hours = np.array(9.25)\n",
    "hours = hours.reshape(-1,1)\n",
    "pred = regressor.predict(hours)\n",
    "print('No. of hours = {}'.format(hours))\n",
    "print('Predicted Score = {}'.format(pred[0]))\n"
   ]
  },
  {
   "cell_type": "code",
   "execution_count": 24,
   "metadata": {},
   "outputs": [
    {
     "name": "stdout",
     "output_type": "stream",
     "text": [
      "Mean Absolute Error :  4.183859899002975\n"
     ]
    }
   ],
   "source": [
    "#The final step is to evaluate the performance of algorithm\n",
    "from sklearn import metrics\n",
    "print('Mean Absolute Error : ',metrics.mean_absolute_error(y_test,y_pred))"
   ]
  },
  {
   "cell_type": "code",
   "execution_count": null,
   "metadata": {},
   "outputs": [],
   "source": []
  }
 ],
 "metadata": {
  "kernelspec": {
   "display_name": "Python 3",
   "language": "python",
   "name": "python3"
  },
  "language_info": {
   "codemirror_mode": {
    "name": "ipython",
    "version": 3
   },
   "file_extension": ".py",
   "mimetype": "text/x-python",
   "name": "python",
   "nbconvert_exporter": "python",
   "pygments_lexer": "ipython3",
   "version": "3.8.5"
  }
 },
 "nbformat": 4,
 "nbformat_minor": 2
}
